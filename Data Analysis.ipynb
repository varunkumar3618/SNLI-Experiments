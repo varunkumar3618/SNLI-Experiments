{
 "cells": [
  {
   "cell_type": "code",
   "execution_count": 34,
   "metadata": {
    "collapsed": true
   },
   "outputs": [],
   "source": [
    "%matplotlib inline"
   ]
  },
  {
   "cell_type": "code",
   "execution_count": 37,
   "metadata": {
    "collapsed": false
   },
   "outputs": [],
   "source": [
    "import os\n",
    "import math\n",
    "import random\n",
    "\n",
    "import numpy as np\n",
    "import matplotlib.pyplot as plt\n",
    "from matplotlib_venn import venn3, venn2\n",
    "\n",
    "from src.utils.vocab import Vocab\n",
    "from src.utils.dataset import Dataset"
   ]
  },
  {
   "cell_type": "code",
   "execution_count": 29,
   "metadata": {
    "collapsed": false
   },
   "outputs": [],
   "source": [
    "debug = False\n",
    "data_dir = \"data/\"\n",
    "snli_dir = os.path.join(data_dir, \"snli_1.0\")\n",
    "vocab_file = os.path.join(data_dir, \"vocab.txt\")\n",
    "regular_data_file = os.path.join(data_dir, \"data.pkl\")\n",
    "debug_data_file = os.path.join(data_dir, \"debug_data.pkl\")\n",
    "models_dir = os.path.join(data_dir, \"models\")\n",
    "max_seq_len = 100"
   ]
  },
  {
   "cell_type": "code",
   "execution_count": null,
   "metadata": {
    "collapsed": true
   },
   "outputs": [],
   "source": [
    "vocab = Vocab(snli_dir, vocab_file)\n",
    "dataset = Dataset(snli_dir, regular_data_file, debug_data_file, vocab,\n",
    "                  max_seq_len, debug=debug)"
   ]
  },
  {
   "cell_type": "code",
   "execution_count": 16,
   "metadata": {
    "collapsed": false
   },
   "outputs": [
    {
     "name": "stdout",
     "output_type": "stream",
     "text": [
      "Split sizes. Train: 549367, dev: 9842, test: 9824\n"
     ]
    }
   ],
   "source": [
    "train_set_len, dev_set_len, test_set_len = dataset.split_size(\"train\"), dataset.split_size(\"dev\"), dataset.split_size(\"test\")\n",
    "print \"Split sizes. Train: %s, dev: %s, test: %s\" % (train_set_len, dev_set_len, test_set_len)"
   ]
  },
  {
   "cell_type": "code",
   "execution_count": 26,
   "metadata": {
    "collapsed": false
   },
   "outputs": [
    {
     "name": "stdout",
     "output_type": "stream",
     "text": [
      "A few examples from the dev set.\n",
      "1)\n",
      "Premise: A girls sports team putting their hands in a circle to do a bonding cheer.\n",
      "Hypothesis: Cheerleaders doing a cheer\n",
      "Label: neutral\n",
      "\n",
      "2)\n",
      "Premise: A man wearing shorts is playing an acoustic guitar while a person in the background looks the other way.\n",
      "Hypothesis: two women sing opera\n",
      "Label: contradiction\n",
      "\n",
      "3)\n",
      "Premise: Two young men in black tank tops playing on a set of drums.\n",
      "Hypothesis: Some guys in black beat their drums.\n",
      "Label: entailment\n",
      "\n",
      "4)\n",
      "Premise: The lady in the red jacket is helping the other lady decide what to buy.\n",
      "Hypothesis: There are multiple people present.\n",
      "Label: entailment\n",
      "\n"
     ]
    }
   ],
   "source": [
    "# Example sentences from the dev set\n",
    "print \"A few examples from the dev set.\"\n",
    "for i in range(4):\n",
    "    print \"%s)\" % (i + 1)\n",
    "    x = random.randint(0, dev_set_len - 1)\n",
    "    sentence1 = dataset.get_sentence1(\"dev\")[x]\n",
    "    sentence2 = dataset.get_sentence2(\"dev\")[x]\n",
    "    label = dataset.int_to_label(dataset.get_true_labels(\"dev\")[x])\n",
    "    print \"Premise: %s\" % sentence1\n",
    "    print \"Hypothesis: %s\" % sentence2\n",
    "    print \"Label: %s\" % label\n",
    "    print"
   ]
  },
  {
   "cell_type": "code",
   "execution_count": 71,
   "metadata": {
    "collapsed": false
   },
   "outputs": [],
   "source": [
    "model_names = [\"mpm\", \"varunchena\", \"stk\"]\n",
    "model_predictions = {name: np.load(os.path.join(models_dir, os.path.join(name, \"results/predictions_dev.npy\")))\n",
    "                     for name in model_names}"
   ]
  },
  {
   "cell_type": "code",
   "execution_count": 72,
   "metadata": {
    "collapsed": false
   },
   "outputs": [
    {
     "name": "stdout",
     "output_type": "stream",
     "text": [
      "Model: mpm\n",
      "Accuracy: 0.844442186547\n",
      "Model: varunchena\n",
      "Accuracy: 0.867709815078\n",
      "Model: stk\n",
      "Accuracy: 0.841597236334\n"
     ]
    }
   ],
   "source": [
    "# As a sanity check, recompute accuracies\n",
    "for name in model_names:\n",
    "    print \"Model: %s\" % name\n",
    "    predictions = model_predictions[name]\n",
    "    true_labels = dataset.get_true_labels(\"dev\")\n",
    "    accuracy = np.sum(predictions == true_labels, dtype=np.float32) / np.sum(predictions.shape)\n",
    "    print \"Accuracy: %s\" % accuracy"
   ]
  },
  {
   "cell_type": "code",
   "execution_count": 73,
   "metadata": {
    "collapsed": true
   },
   "outputs": [],
   "source": [
    "def venn_diagram(model_predictions, split, name1, name2, name3=None):\n",
    "    true_labels = dataset.get_true_labels(split)\n",
    "    split_len = dataset.split_size(split)\n",
    "\n",
    "    predictions1 = model_predictions[name1]\n",
    "    predictions2 = model_predictions[name2]\n",
    "    if name3 is not None:\n",
    "        predictions3 = model_predictions[name3]\n",
    "\n",
    "    incorrect1 = set(np.nonzero(predictions1 != true_labels)[0])\n",
    "    incorrect2 = set(np.nonzero(predictions2 != true_labels)[0])\n",
    "    if name3 is not None:\n",
    "        incorrect3 = set(np.nonzero(predictions3 != true_labels)[0])\n",
    "\n",
    "    plt.figure();\n",
    "    if name3 is None:\n",
    "        venn2([incorrect1, incorrect2], (name1, name2))\n",
    "    else:\n",
    "        venn3([incorrect1, incorrect2, incorrect3], (name1, name2, name3))\n",
    "\n",
    "    plt.show()"
   ]
  },
  {
   "cell_type": "code",
   "execution_count": 74,
   "metadata": {
    "collapsed": false
   },
   "outputs": [
    {
     "data": {
      "image/png": "[encoded data removed]",
      "text/plain": [
       "<matplotlib.figure.Figure at 0x186005f50>"
      ]
     },
     "metadata": {},
     "output_type": "display_data"
    }
   ],
   "source": [
    "venn_diagram(model_predictions, \"dev\", \"mpm\", \"varunchena\", \"stk\")"
   ]
  },
  {
   "cell_type": "code",
   "execution_count": 75,
   "metadata": {
    "collapsed": true
   },
   "outputs": [],
   "source": [
    "def hard_indices(model_predictions, split, names):\n",
    "    true_labels = dataset.get_true_labels(split)\n",
    "    split_len = dataset.split_size(split)\n",
    "\n",
    "    incorrects = {name: set(np.nonzero(model_predictions[name] != true_labels)[0]) for name in names}\n",
    "    hi = set(range(split_len))\n",
    "    for name in names:\n",
    "        hi &= incorrects[name]\n",
    "\n",
    "    return hi"
   ]
  },
  {
   "cell_type": "code",
   "execution_count": 101,
   "metadata": {
    "collapsed": true
   },
   "outputs": [],
   "source": [
    "def confidence(split, idx):\n",
    "    annotations = list(dataset._dataframes[split][\"annotator_labels\"])\n",
    "    gold_label = list(dataset._dataframes[split][\"gold_label\"])[idx]\n",
    "    return sum(1 for i in range(5) if annotations[idx][i] == gold_label)"
   ]
  },
  {
   "cell_type": "code",
   "execution_count": 87,
   "metadata": {
    "collapsed": true
   },
   "outputs": [],
   "source": [
    "def show_examples_with_preds(model_predictions, split, names, indices):\n",
    "    sentence1s = dataset.get_sentence1(split)\n",
    "    sentence2s = dataset.get_sentence2(split)\n",
    "    true_labels = dataset.get_true_labels(split)\n",
    "    split_len = dataset.split_size(split)\n",
    "\n",
    "    for i, idx in enumerate(indices):\n",
    "        print \"%s)\" % (i + 1)\n",
    "        print \"Premise: %s\" % sentence1s[idx]\n",
    "        print \"Hypothesis: %s\" % sentence2s[idx]\n",
    "        print \"Label: %s\" % dataset.int_to_label(true_labels[idx])\n",
    "        print \"Annotator confidence: %s/5\" % confidence(split, idx)\n",
    "        for name in names:\n",
    "            print \"Model %s prediction: %s\" % (name, dataset.int_to_label(model_predictions[name][idx]))\n",
    "        print"
   ]
  },
  {
   "cell_type": "code",
   "execution_count": 102,
   "metadata": {
    "collapsed": false,
    "scrolled": false
   },
   "outputs": [
    {
     "name": "stdout",
     "output_type": "stream",
     "text": [
      "1)\n",
      "Premise: A man at the beach, building a sand castle.\n",
      "Hypothesis: A man is using buckets and a shovel.\n",
      "Label: neutral\n",
      "Annotator confidence: 4/5\n",
      "Model mpm prediction: contradiction\n",
      "Model varunchena prediction: contradiction\n",
      "Model stk prediction: contradiction\n",
      "\n",
      "2)\n",
      "Premise: Rival female basketball teams are playing a game in front of an audience at an indoor arena.\n",
      "Hypothesis: Two female basketball teams are both trying to win the game.\n",
      "Label: entailment\n",
      "Annotator confidence: 4/5\n",
      "Model mpm prediction: neutral\n",
      "Model varunchena prediction: neutral\n",
      "Model stk prediction: neutral\n",
      "\n",
      "3)\n",
      "Premise: Two pedestrians walking past a sidewalk cafe on a cobblestone street.\n",
      "Hypothesis: two pedestrians walk on a cobblestone road a long way away from a cafe\n",
      "Label: contradiction\n",
      "Annotator confidence: 3/5\n",
      "Model mpm prediction: neutral\n",
      "Model varunchena prediction: entailment\n",
      "Model stk prediction: neutral\n",
      "\n",
      "4)\n",
      "Premise: A woman and a man are sword fighting.\n",
      "Hypothesis: Two people have engaged in a sword fight and both are dead.\n",
      "Label: contradiction\n",
      "Annotator confidence: 5/5\n",
      "Model mpm prediction: neutral\n",
      "Model varunchena prediction: neutral\n",
      "Model stk prediction: neutral\n",
      "\n",
      "5)\n",
      "Premise: A boy hits a ball, with a bat, outside, while others in the background watch him.\n",
      "Hypothesis: The kid is hitting a baseball.\n",
      "Label: entailment\n",
      "Annotator confidence: 4/5\n",
      "Model mpm prediction: neutral\n",
      "Model varunchena prediction: neutral\n",
      "Model stk prediction: neutral\n",
      "\n"
     ]
    }
   ],
   "source": [
    "hi = hard_indices(model_predictions, \"dev\", model_names)\n",
    "samples = random.sample(hi, 5)\n",
    "show_examples_with_preds(model_predictions, \"dev\", model_names, samples)"
   ]
  },
  {
   "cell_type": "code",
   "execution_count": null,
   "metadata": {
    "collapsed": true
   },
   "outputs": [],
   "source": []
  }
 ],
 "metadata": {
  "kernelspec": {
   "display_name": "Python 2",
   "language": "python",
   "name": "python2"
  },
  "language_info": {
   "codemirror_mode": {
    "name": "ipython",
    "version": 2
   },
   "file_extension": ".py",
   "mimetype": "text/x-python",
   "name": "python",
   "nbconvert_exporter": "python",
   "pygments_lexer": "ipython2",
   "version": "2.7.13"
  }
 },
 "nbformat": 4,
 "nbformat_minor": 2
}
